{
 "cells": [
  {
   "cell_type": "markdown",
   "id": "c5821e14",
   "metadata": {},
   "source": [
    "# Testing Custom Data"
   ]
  },
  {
   "cell_type": "code",
   "execution_count": 1,
   "id": "07fd797d",
   "metadata": {},
   "outputs": [],
   "source": [
    "import pickle\n",
    "import joblib"
   ]
  },
  {
   "cell_type": "code",
   "execution_count": 2,
   "id": "b48ad11f",
   "metadata": {},
   "outputs": [],
   "source": [
    "with open(\"model.pkl\", \"rb\") as file:\n",
    "    model = pickle.load(file)"
   ]
  },
  {
   "cell_type": "code",
   "execution_count": 3,
   "id": "b93e299d",
   "metadata": {},
   "outputs": [],
   "source": [
    "loaded_vectorizer = joblib.load('tfidf_vectorizer.pkl')"
   ]
  },
  {
   "cell_type": "code",
   "execution_count": 4,
   "id": "58a82d45",
   "metadata": {},
   "outputs": [
    {
     "name": "stdout",
     "output_type": "stream",
     "text": [
      "Output: The article is classified as fake news.\n"
     ]
    }
   ],
   "source": [
    "# Deployment (using the trained model to make predictions on new data)\n",
    "from sklearn.feature_extraction.text import TfidfVectorizer\n",
    "new_article = [\"This is a new article that needs to be classified as fake or real.\"]\n",
    "new_article_vectorized = loaded_vectorizer.transform(new_article)\n",
    "prediction = model.predict(new_article_vectorized)\n",
    "\n",
    "if prediction[0] == 0:\n",
    "    print(\"Output:\" + \" The article is classified as fake news.\")\n",
    "else:\n",
    "    print(\"Output:\" +\" The article is classified as real news.\")\n",
    "    "
   ]
  },
  {
   "cell_type": "code",
   "execution_count": null,
   "id": "40936428",
   "metadata": {},
   "outputs": [],
   "source": []
  }
 ],
 "metadata": {
  "kernelspec": {
   "display_name": "Python 3 (ipykernel)",
   "language": "python",
   "name": "python3"
  },
  "language_info": {
   "codemirror_mode": {
    "name": "ipython",
    "version": 3
   },
   "file_extension": ".py",
   "mimetype": "text/x-python",
   "name": "python",
   "nbconvert_exporter": "python",
   "pygments_lexer": "ipython3",
   "version": "3.9.13"
  }
 },
 "nbformat": 4,
 "nbformat_minor": 5
}
